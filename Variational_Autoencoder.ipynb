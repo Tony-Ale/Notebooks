{
  "nbformat": 4,
  "nbformat_minor": 0,
  "metadata": {
    "colab": {
      "provenance": []
    },
    "kernelspec": {
      "name": "python3",
      "display_name": "Python 3"
    },
    "language_info": {
      "name": "python"
    }
  },
  "cells": [
    {
      "cell_type": "code",
      "execution_count": 24,
      "metadata": {
        "id": "c62CzKF9_6qA"
      },
      "outputs": [],
      "source": [
        "# =======================\n",
        "# Load the MNIST handwritten digit dataset and return DataLoaders for training and testing.\n",
        "# Each image is converted to a PyTorch tensor and normalized to the [0, 1] range.\n",
        "# DataLoaders enable efficient batching, shuffling, and iteration during training.\n",
        "# =======================\n",
        "from torchvision import datasets, transforms # Import MNIST dataset and image transforms\n",
        "from torch.utils.data import DataLoader # For batching and loading the dataset\n",
        "\n",
        "def get_mnist_loaders(batch_size=128):\n",
        "\n",
        "  # Convert images to PyTorch tensors with values scaled to [0, 1]\n",
        "  transform = transforms.ToTensor()\n",
        "\n",
        "  # Download and load the training dataset\n",
        "  train_dataset = datasets.MNIST(root='./data', train=True, download=True, transform=transform)\n",
        "\n",
        "  # Download and load the test dataset\n",
        "  test_dataset = datasets.MNIST(root='./data', train=False, download=True, transform=transform)\n",
        "\n",
        "  # Wrap datasets in DataLoaders to enable batching and shuffling\n",
        "  train_loader = DataLoader(train_dataset, batch_size=batch_size, shuffle=True)\n",
        "  test_loader = DataLoader(test_dataset, batch_size=batch_size, shuffle=False)\n",
        "\n",
        "  return train_loader, test_loader\n"
      ]
    },
    {
      "cell_type": "code",
      "source": [
        "# =======================\n",
        "# Visualize a batch of MNIST digit images from the training dataset.\n",
        "# This function loads a mini-batch using get_mnist_loaders() and displays the digits with their labels.\n",
        "# Useful for quickly inspecting the raw input data before training.\n",
        "# =======================\n",
        "import matplotlib.pyplot as plt # For plotting and displaying images\n",
        "def visualize_batch(batch_size=16):\n",
        "  # Load a mini-batch of training data\n",
        "  train_loader, _ = get_mnist_loaders(batch_size)\n",
        "  images, labels = next(iter(train_loader)) # Get the first batch\n",
        "\n",
        "  # Create a horizontal grid of images\n",
        "  plt.figure(figsize=(10, 4))\n",
        "  for i in range(batch_size):\n",
        "    plt.subplot(2, batch_size // 2, i + 1) # 2 rows, batch_size/2 columns\n",
        "    plt.imshow(images[i][0], cmap='gray') # Show the image (channel 0 since MNIST is grayscale)\n",
        "    plt.title(f\"Label: {labels[i].item()}\")\n",
        "    plt.axis('off')\n",
        "  plt.tight_layout()\n",
        "  plt.show()"
      ],
      "metadata": {
        "id": "LOKajbuTaw89"
      },
      "execution_count": 25,
      "outputs": []
    },
    {
      "cell_type": "code",
      "source": [
        "visualize_batch()"
      ],
      "metadata": {
        "colab": {
          "base_uri": "https://localhost:8080/",
          "height": 342
        },
        "id": "efHKxLZ0bEB2",
        "outputId": "43f8c0ed-669b-4e81-e293-3851ab7a7cda"
      },
      "execution_count": 26,
      "outputs": [
        {
          "output_type": "display_data",
          "data": {
            "text/plain": [
              "<Figure size 1000x400 with 16 Axes>"
            ],
            "image/png": "[encoded data removed]"
          },
          "metadata": {}
        }
      ]
    },
    {
      "cell_type": "code",
      "source": [
        "# =======================\n",
        "# Define a fully-connected Autoencoder for compressing and reconstructing MNIST digit images.\n",
        "# Architecture:\n",
        "#   Encoder: 784 → 128 → 32\n",
        "#   Decoder: 32 → 128 → 784\n",
        "# The model learns to compress 28x28 images into a 32-dimensional latent space and reconstruct them.\n",
        "# =======================\n",
        "import torch\n",
        "import torch.nn as nn\n",
        "class VAE(nn.Module):\n",
        "  def __init__(self, input_dim=784, hidden_dim=128, latent_dim=32):\n",
        "    super().__init__()\n",
        "\n",
        "    # Encoder layers\n",
        "    self.fc1 = nn.Linear(input_dim, hidden_dim)\n",
        "    self.fc_mu = nn.Linear(hidden_dim,  latent_dim) # the mean\n",
        "    self.fc_logvar = nn.Linear(hidden_dim, latent_dim) # the log of the variance\n",
        "\n",
        "    # Decoder layers\n",
        "    self.fc3 = nn.Linear(latent_dim, hidden_dim)\n",
        "    self.fc4 = nn.Linear(hidden_dim, input_dim)\n",
        "\n",
        "  def encode(self, x):\n",
        "    h1 = torch.relu(self.fc1(x))\n",
        "    return self.fc_mu(h1), self.fc_logvar(h1)\n",
        "\n",
        "  def reparameterize(self, mu, logvar):\n",
        "    std = torch.exp(0.5*logvar)\n",
        "    eps = torch.randn_like(std)\n",
        "    z = mu + eps*std\n",
        "    return z\n",
        "\n",
        "  def decode(self, z):\n",
        "    h3 = torch.relu(self.fc3(z))\n",
        "    return torch.sigmoid(self.fc4(h3))\n",
        "\n",
        "  def forward(self, x):\n",
        "    x = x.view(x.size(0), -1) # Flatten image: [batch, 1, 28, 28] -> [batch, 784]\n",
        "    mu, logvar = self.encode(x)\n",
        "    z = self.reparameterize(mu, logvar)\n",
        "    out = self.decode(z) # Decode back to reconstructed image\n",
        "    return out, mu, logvar"
      ],
      "metadata": {
        "id": "HontAKJIa5fy"
      },
      "execution_count": 27,
      "outputs": []
    },
    {
      "cell_type": "code",
      "source": [
        "train_loader, test_loader = get_mnist_loaders()"
      ],
      "metadata": {
        "id": "jbRFHwnY13EF"
      },
      "execution_count": 28,
      "outputs": []
    },
    {
      "cell_type": "code",
      "source": [
        "# Initialize model\n",
        "device = torch.device(\"cuda\" if torch.cuda.is_available() else \"cpu\")\n",
        "model = VAE()\n",
        "model.to(device)"
      ],
      "metadata": {
        "colab": {
          "base_uri": "https://localhost:8080/"
        },
        "id": "K0jA13PljDIj",
        "outputId": "6d08e422-4a76-4d87-e8d9-b263288dad2e"
      },
      "execution_count": 29,
      "outputs": [
        {
          "output_type": "execute_result",
          "data": {
            "text/plain": [
              "VAE(\n",
              "  (fc1): Linear(in_features=784, out_features=128, bias=True)\n",
              "  (fc_mu): Linear(in_features=128, out_features=32, bias=True)\n",
              "  (fc_logvar): Linear(in_features=128, out_features=32, bias=True)\n",
              "  (fc3): Linear(in_features=32, out_features=128, bias=True)\n",
              "  (fc4): Linear(in_features=128, out_features=784, bias=True)\n",
              ")"
            ]
          },
          "metadata": {},
          "execution_count": 29
        }
      ]
    },
    {
      "cell_type": "code",
      "source": [
        "import torch.nn.functional as F\n",
        "def loss_function(recon_x, x, mu, logvar):\n",
        "  bce_loss = F.binary_cross_entropy(recon_x, x.view(x.size(0), -1), reduction='sum')\n",
        "\n",
        "  # KL Divergence\n",
        "  kld = -0.5 * torch.sum(1 + logvar - mu.pow(2) - logvar.exp())\n",
        "\n",
        "  # Normalize both terms by batch size (per-sample average)\n",
        "  batch_size = x.size(0)\n",
        "  loss = (bce_loss + kld) / batch_size\n",
        "\n",
        "  return loss"
      ],
      "metadata": {
        "id": "KCMumi2UjbrG"
      },
      "execution_count": 30,
      "outputs": []
    },
    {
      "cell_type": "code",
      "source": [
        "optim = torch.optim.Adam(model.parameters(), lr=1e-3)"
      ],
      "metadata": {
        "id": "WuURVYV-1qSn"
      },
      "execution_count": 31,
      "outputs": []
    },
    {
      "cell_type": "code",
      "source": [
        "# Train model\n",
        "epochs = 10\n",
        "for epoch in range(epochs):\n",
        "  running_loss = 0.0\n",
        "  for data in train_loader:\n",
        "    inputs, _ = data\n",
        "    inputs = inputs.to(device)\n",
        "    optim.zero_grad()\n",
        "    outputs, mu, logvar = model(inputs)\n",
        "    loss = loss_function(outputs, inputs, mu, logvar)\n",
        "    loss.backward()\n",
        "    optim.step()\n",
        "    running_loss += loss.item()\n",
        "  print(f\"Epoch {epoch+1}/{epochs}, Loss: {running_loss/len(train_loader):.4f}\")\n"
      ],
      "metadata": {
        "colab": {
          "base_uri": "https://localhost:8080/"
        },
        "id": "FjvfAaoX1uuM",
        "outputId": "d39ef8b5-52f6-42c7-840a-b3dff31fcc3f"
      },
      "execution_count": 32,
      "outputs": [
        {
          "output_type": "stream",
          "name": "stdout",
          "text": [
            "Epoch 1/10, Loss: 193.2529\n",
            "Epoch 2/10, Loss: 141.5911\n",
            "Epoch 3/10, Loss: 128.7490\n",
            "Epoch 4/10, Loss: 122.4878\n",
            "Epoch 5/10, Loss: 118.5537\n",
            "Epoch 6/10, Loss: 115.9418\n",
            "Epoch 7/10, Loss: 114.2570\n",
            "Epoch 8/10, Loss: 113.0838\n",
            "Epoch 9/10, Loss: 112.2591\n",
            "Epoch 10/10, Loss: 111.6781\n"
          ]
        }
      ]
    },
    {
      "cell_type": "code",
      "source": [
        "# Test model\n",
        "model.eval()\n",
        "with torch.no_grad():\n",
        "  test_loss = 0.0\n",
        "  for data in test_loader:\n",
        "    inputs, _ = data\n",
        "    inputs = inputs.to(device)\n",
        "    outputs, mu, logvar = model(inputs)\n",
        "    loss = loss_function(outputs, inputs, mu, logvar)\n",
        "    test_loss += loss.item()\n",
        "  print(f'Test Loss: {test_loss / len(test_loader)}')\n"
      ],
      "metadata": {
        "colab": {
          "base_uri": "https://localhost:8080/"
        },
        "id": "wwNLhQcb4GBv",
        "outputId": "990d6a87-ff01-4935-a206-c52cc2604227"
      },
      "execution_count": 33,
      "outputs": [
        {
          "output_type": "stream",
          "name": "stdout",
          "text": [
            "Test Loss: 110.1176515410218\n"
          ]
        }
      ]
    },
    {
      "cell_type": "code",
      "source": [
        "# Visualize reconstruciton\n",
        "model.eval()\n",
        "with torch.no_grad():\n",
        "    sample_imgs, _ = next(iter(test_loader))\n",
        "    sample_imgs = sample_imgs.to(device)\n",
        "    reconstructed, _, _ = model(sample_imgs)\n",
        "\n",
        "# Plot original vs reconstructed\n",
        "n = 8\n",
        "plt.figure(figsize=(16, 4))\n",
        "for i in range(n):\n",
        "    # Original\n",
        "    plt.subplot(2, n, i + 1)\n",
        "    plt.imshow(sample_imgs[i][0].cpu(), cmap='gray')\n",
        "    plt.title(\"Original\")\n",
        "    plt.axis('off')\n",
        "\n",
        "    # Reconstructed\n",
        "    plt.subplot(2, n, i + 1 + n)\n",
        "    plt.imshow(reconstructed[i].view(28, 28).cpu(), cmap='gray')\n",
        "    plt.title(\"Reconstructed\")\n",
        "    plt.axis('off')\n",
        "\n",
        "plt.tight_layout()\n",
        "plt.show()"
      ],
      "metadata": {
        "colab": {
          "base_uri": "https://localhost:8080/",
          "height": 329
        },
        "id": "pskrmzPk25pP",
        "outputId": "26e4707d-2008-4d76-d436-1141148105fb"
      },
      "execution_count": 34,
      "outputs": [
        {
          "output_type": "display_data",
          "data": {
            "text/plain": [
              "<Figure size 1600x400 with 16 Axes>"
            ],
            "image/png": "[encoded data removed]"
          },
          "metadata": {}
        }
      ]
    },
    {
      "cell_type": "code",
      "source": [
        "# Generating new samples\n",
        "import torch\n",
        "import matplotlib.pyplot as plt\n",
        "\n",
        "# Set to eval mode and disable gradients\n",
        "model.eval()\n",
        "with torch.no_grad():\n",
        "    # Sample z ~ N(0, I)\n",
        "    z = torch.randn(8, 32).to(device)  # 8 samples\n",
        "\n",
        "    # Decode z to x\n",
        "    generated = model.decode(z)  # Output is (batch_size, 1, 28, 28) or (batch_size, 784)\n",
        "\n",
        "    # Reshape if needed\n",
        "    if generated.shape[-1] == 784:\n",
        "        generated = generated.view(-1, 1, 28, 28)\n",
        "\n",
        "    # Plot samples\n",
        "    plt.figure(figsize=(16, 4))\n",
        "    grid = torch.cat([img for img in generated.cpu()], dim=2).squeeze()\n",
        "    plt.imshow(grid, cmap='gray')\n",
        "    plt.axis('off')\n",
        "    plt.show()\n"
      ],
      "metadata": {
        "colab": {
          "base_uri": "https://localhost:8080/",
          "height": 190
        },
        "id": "VAbm9gg65TDz",
        "outputId": "054004e0-b587-433c-dc28-f7640b8d4b84"
      },
      "execution_count": 42,
      "outputs": [
        {
          "output_type": "display_data",
          "data": {
            "text/plain": [
              "<Figure size 1600x400 with 1 Axes>"
            ],
            "image/png": "[encoded data removed]"
          },
          "metadata": {}
        }
      ]
    },
    {
      "cell_type": "code",
      "source": [],
      "metadata": {
        "id": "2XZSyXzU88uh"
      },
      "execution_count": 39,
      "outputs": []
    }
  ]
}