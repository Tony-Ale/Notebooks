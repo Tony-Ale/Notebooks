{
  "nbformat": 4,
  "nbformat_minor": 0,
  "metadata": {
    "colab": {
      "provenance": []
    },
    "kernelspec": {
      "name": "python3",
      "display_name": "Python 3"
    },
    "language_info": {
      "name": "python"
    }
  },
  "cells": [
    {
      "cell_type": "code",
      "execution_count": 1,
      "metadata": {
        "id": "j-yVFUnzGRoe"
      },
      "outputs": [],
      "source": [
        "from torchvision import datasets, transforms\n",
        "from torch.utils.data import DataLoader\n",
        "\n",
        "def get_mnist_loaders(batch_size=32):\n",
        "  transform = transforms.ToTensor()\n",
        "  train_dataset = datasets.MNIST(root=\"./data\", train=True, download=True, transform=transform)\n",
        "\n",
        "  test_dataset = datasets.MNIST(root=\"./data\", train=False, download=True, transform=transform)\n",
        "\n",
        "  train_loader = DataLoader(train_dataset, batch_size=batch_size, shuffle=True)\n",
        "  test_loader = DataLoader(test_dataset, batch_size=batch_size, shuffle=False)\n",
        "  return train_loader, test_loader"
      ]
    },
    {
      "cell_type": "code",
      "source": [
        "import matplotlib.pyplot as plt # For plotting and displaying images\n",
        "def visualize_batch(batch_size=16):\n",
        "  # Load a mini-batch of training data\n",
        "  train_loader, _ = get_mnist_loaders(batch_size)\n",
        "  images, labels = next(iter(train_loader)) # Get the first batch\n",
        "\n",
        "  # Create a horizontal grid of images\n",
        "  plt.figure(figsize=(10, 4))\n",
        "  for i in range(batch_size):\n",
        "    plt.subplot(2, batch_size // 2, i + 1) # 2 rows, batch_size/2 columns\n",
        "    plt.imshow(images[i][0], cmap='gray') # Show the image (channel 0 since MNIST is grayscale)\n",
        "    plt.title(f\"Label: {labels[i].item()}\")\n",
        "    plt.axis('off')\n",
        "  plt.tight_layout()\n",
        "  plt.show()"
      ],
      "metadata": {
        "id": "AnOKTzx_IVDn"
      },
      "execution_count": 2,
      "outputs": []
    },
    {
      "cell_type": "code",
      "source": [
        "visualize_batch()"
      ],
      "metadata": {
        "colab": {
          "base_uri": "https://localhost:8080/",
          "height": 411
        },
        "id": "jtVA1c44IWEl",
        "outputId": "5fff897f-fc9c-4fee-f0ba-242a37b4d12b"
      },
      "execution_count": 3,
      "outputs": [
        {
          "output_type": "stream",
          "name": "stderr",
          "text": [
            "100%|██████████| 9.91M/9.91M [00:00<00:00, 55.7MB/s]\n",
            "100%|██████████| 28.9k/28.9k [00:00<00:00, 1.63MB/s]\n",
            "100%|██████████| 1.65M/1.65M [00:00<00:00, 14.1MB/s]\n",
            "100%|██████████| 4.54k/4.54k [00:00<00:00, 5.81MB/s]\n"
          ]
        },
        {
          "output_type": "display_data",
          "data": {
            "text/plain": [
              "<Figure size 1000x400 with 16 Axes>"
            ],
            "image/png": "[encoded data removed]"
          },
          "metadata": {}
        }
      ]
    },
    {
      "cell_type": "code",
      "source": [
        "train_loader, test_loader = get_mnist_loaders()"
      ],
      "metadata": {
        "id": "oKIXjOQLIeZ0"
      },
      "execution_count": 4,
      "outputs": []
    },
    {
      "cell_type": "code",
      "source": [
        "import torch.nn as nn\n",
        "import torch\n",
        "class LSTMCell(nn.Module):\n",
        "  def __init__(self, input_size, hidden_size):\n",
        "    super().__init__()\n",
        "\n",
        "    self.x_t = nn.Linear(input_size, hidden_size)\n",
        "    self.a_t = nn.Linear(hidden_size, hidden_size)\n",
        "\n",
        "    # Update gate params\n",
        "    self.x_t_u = nn.Linear(input_size, hidden_size)\n",
        "    self.a_t_u = nn.Linear(hidden_size, hidden_size)\n",
        "\n",
        "    # Forget gate params\n",
        "    self.x_t_f = nn.Linear(input_size, hidden_size)\n",
        "    self.a_t_f = nn.Linear(hidden_size, hidden_size)\n",
        "\n",
        "    # Output gate params\n",
        "    self.x_t_o = nn.Linear(input_size, hidden_size)\n",
        "    self.a_t_o = nn.Linear(hidden_size, hidden_size)\n",
        "  def forward(self, x, a_t_prev, c_t_prev):\n",
        "    gamma_u = torch.sigmoid(self.x_t_u(x) + self.a_t_u(a_t_prev)) # Update gate\n",
        "    gamma_f = torch.sigmoid(self.x_t_f(x) + self.a_t_f(a_t_prev)) # forget gate\n",
        "    gamma_o = torch.sigmoid(self.x_t_o(x) + self.a_t_o(a_t_prev)) # output gate\n",
        "\n",
        "    c_t_tilde = torch.tanh(self.x_t(x) + self.a_t(a_t_prev))\n",
        "\n",
        "    c_t = gamma_u * c_t_tilde + gamma_f * c_t_prev\n",
        "\n",
        "    a_t = gamma_o * torch.tanh(c_t)\n",
        "\n",
        "    return a_t, c_t"
      ],
      "metadata": {
        "id": "D1Z35kjCIjNY"
      },
      "execution_count": 5,
      "outputs": []
    },
    {
      "cell_type": "code",
      "source": [
        "class LSTM(nn.Module):\n",
        "  def __init__(self, input_size, hidden_size, LSTMCell=LSTMCell):\n",
        "    super().__init__()\n",
        "    self.hidden_size = hidden_size\n",
        "    self.LSTMCell = LSTMCell(input_size, hidden_size)\n",
        "\n",
        "  def forward(self, x):\n",
        "    # Using batch first [batch_size, seq_len, input_size]\n",
        "\n",
        "    output = []\n",
        "\n",
        "    batch_size, seq_len, _ = x.shape\n",
        "\n",
        "    a_t = torch.zeros(batch_size, self.hidden_size).to(x.device)\n",
        "    c_t = torch.zeros(batch_size, self.hidden_size).to(x.device)\n",
        "\n",
        "    for i in range(seq_len):\n",
        "      a_t, c_t = self.LSTMCell(x[:, i, :], a_t, c_t)\n",
        "      output.append(a_t)\n",
        "    return torch.stack(output, dim=1), (a_t, c_t)\n",
        "\n"
      ],
      "metadata": {
        "id": "IOQ2HRDDN1T9"
      },
      "execution_count": 6,
      "outputs": []
    },
    {
      "cell_type": "code",
      "source": [
        "class DigitClassification(nn.Module):\n",
        "  def __init__(self, input_size, hidden_size, output_size):\n",
        "    super().__init__()\n",
        "    self.LSTM = LSTM(input_size, hidden_size)\n",
        "    self.classifier = nn.Linear(hidden_size, output_size)\n",
        "  def forward(self, x):\n",
        "    x = x.view(-1, 28, 28)\n",
        "    _, (a_t, c_t) = self.LSTM(x)\n",
        "    out = self.classifier(a_t)\n",
        "    return out"
      ],
      "metadata": {
        "id": "RuPRiwRvR_mr"
      },
      "execution_count": 7,
      "outputs": []
    },
    {
      "cell_type": "code",
      "source": [
        "model = DigitClassification(input_size=28, hidden_size=128, output_size=10)\n",
        "device = torch.device(\"cuda\" if torch.cuda.is_available() else \"cpu\")\n",
        "model.to(device)"
      ],
      "metadata": {
        "colab": {
          "base_uri": "https://localhost:8080/"
        },
        "id": "GwsDxv1hTgpB",
        "outputId": "836907b5-a671-42c1-d8da-587b710f9e23"
      },
      "execution_count": 8,
      "outputs": [
        {
          "output_type": "execute_result",
          "data": {
            "text/plain": [
              "DigitClassification(\n",
              "  (LSTM): LSTM(\n",
              "    (LSTMCell): LSTMCell(\n",
              "      (x_t): Linear(in_features=28, out_features=128, bias=True)\n",
              "      (a_t): Linear(in_features=128, out_features=128, bias=True)\n",
              "      (x_t_u): Linear(in_features=28, out_features=128, bias=True)\n",
              "      (a_t_u): Linear(in_features=128, out_features=128, bias=True)\n",
              "      (x_t_f): Linear(in_features=28, out_features=128, bias=True)\n",
              "      (a_t_f): Linear(in_features=128, out_features=128, bias=True)\n",
              "      (x_t_o): Linear(in_features=28, out_features=128, bias=True)\n",
              "      (a_t_o): Linear(in_features=128, out_features=128, bias=True)\n",
              "    )\n",
              "  )\n",
              "  (classifier): Linear(in_features=128, out_features=10, bias=True)\n",
              ")"
            ]
          },
          "metadata": {},
          "execution_count": 8
        }
      ]
    },
    {
      "cell_type": "code",
      "source": [
        "criterion = nn.CrossEntropyLoss()\n",
        "optimizer = torch.optim.Adam(model.parameters(), lr=0.001)"
      ],
      "metadata": {
        "id": "fWs21P_-TvYx"
      },
      "execution_count": 9,
      "outputs": []
    },
    {
      "cell_type": "code",
      "source": [
        "epochs = 10\n",
        "for epoch in range(epochs):\n",
        "  running_loss = 0.0\n",
        "  for images, targets in train_loader:\n",
        "    images = images.to(device)\n",
        "    targets = targets.to(device)\n",
        "\n",
        "    optimizer.zero_grad()\n",
        "    outputs = model(images)\n",
        "    loss = criterion(outputs, targets)\n",
        "    loss.backward()\n",
        "    optimizer.step()\n",
        "    running_loss += loss.item()\n",
        "  print(f\"Epoch {epoch+1}/{epochs}, Loss: {running_loss/len(train_loader)}\")\n",
        ""
      ],
      "metadata": {
        "colab": {
          "base_uri": "https://localhost:8080/"
        },
        "id": "OwpWgNTHUPAI",
        "outputId": "32445a0b-fc5c-4299-d6f9-246c93508c97"
      },
      "execution_count": 10,
      "outputs": [
        {
          "output_type": "stream",
          "name": "stdout",
          "text": [
            "Epoch 1/10, Loss: 0.35905330972671506\n",
            "Epoch 2/10, Loss: 0.11276032264816264\n",
            "Epoch 3/10, Loss: 0.07675111181475222\n",
            "Epoch 4/10, Loss: 0.05976210466306656\n",
            "Epoch 5/10, Loss: 0.04733304212416212\n",
            "Epoch 6/10, Loss: 0.03894993536525095\n",
            "Epoch 7/10, Loss: 0.033846180220491566\n",
            "Epoch 8/10, Loss: 0.029500325580965728\n",
            "Epoch 9/10, Loss: 0.02503393310982889\n",
            "Epoch 10/10, Loss: 0.02296483846361904\n"
          ]
        }
      ]
    },
    {
      "cell_type": "code",
      "source": [
        "# Test the accuracy of the model\n",
        "model.eval()\n",
        "with torch.no_grad():\n",
        "  correct = 0\n",
        "  total = 0\n",
        "  for images, target in test_loader:\n",
        "    images = images.to(device)\n",
        "    target = target.to(device)\n",
        "\n",
        "    output = model.forward(images)\n",
        "\n",
        "    _, topk = output.topk(1, dim=1)\n",
        "\n",
        "    topk = topk.squeeze(1)\n",
        "\n",
        "    correct += (topk == target).sum()\n",
        "\n",
        "    total += target.size(0)\n",
        "\n",
        "  print(f\"Accuracy: {100*correct/total}%\")"
      ],
      "metadata": {
        "colab": {
          "base_uri": "https://localhost:8080/"
        },
        "id": "7NCS5YQxUoNI",
        "outputId": "59999d89-a137-4e2f-d81a-a1da55b1a1f3"
      },
      "execution_count": 11,
      "outputs": [
        {
          "output_type": "stream",
          "name": "stdout",
          "text": [
            "Accuracy: 98.7699966430664%\n"
          ]
        }
      ]
    },
    {
      "cell_type": "code",
      "source": [
        "import matplotlib.pyplot as plt\n",
        "import torchvision.transforms.functional as TF\n",
        "\n",
        "# Set model to eval mode\n",
        "model.eval()\n",
        "\n",
        "# Get one batch from test_loader\n",
        "images, labels = next(iter(test_loader))\n",
        "\n",
        "# Pick one sample\n",
        "index = 0\n",
        "image = images[index].to(device).unsqueeze(0)  # Add batch dimension\n",
        "label = labels[index]\n",
        "\n",
        "# Make prediction\n",
        "with torch.no_grad():\n",
        "    output = model(image)\n",
        "    _, pred = output.topk(1, dim=1)\n",
        "    pred = pred.item()\n",
        "\n",
        "# Show image\n",
        "plt.imshow(TF.to_pil_image(images[index]), cmap=\"gray\")\n",
        "plt.title(f\"Prediction: {pred} | True Label: {label.item()}\")\n",
        "plt.axis('off')\n",
        "plt.show()"
      ],
      "metadata": {
        "colab": {
          "base_uri": "https://localhost:8080/",
          "height": 428
        },
        "id": "YiCYRM3CYUOb",
        "outputId": "ef864e8f-aa05-40fa-8acd-cfd256d04df2"
      },
      "execution_count": 12,
      "outputs": [
        {
          "output_type": "display_data",
          "data": {
            "text/plain": [
              "<Figure size 640x480 with 1 Axes>"
            ],
            "image/png": "[encoded data removed]"
          },
          "metadata": {}
        }
      ]
    },
    {
      "cell_type": "code",
      "source": [],
      "metadata": {
        "id": "9jHJ29bVc6gN"
      },
      "execution_count": null,
      "outputs": []
    }
  ]
}