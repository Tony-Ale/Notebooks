{
  "nbformat": 4,
  "nbformat_minor": 0,
  "metadata": {
    "colab": {
      "provenance": []
    },
    "kernelspec": {
      "name": "python3",
      "display_name": "Python 3"
    },
    "language_info": {
      "name": "python"
    }
  },
  "cells": [
    {
      "cell_type": "code",
      "execution_count": null,
      "metadata": {
        "id": "rG88Pbaz1FBB"
      },
      "outputs": [],
      "source": [
        "import torch\n",
        "import torch.nn as nn\n",
        "from torch import Tensor\n",
        "from typing import Tuple\n",
        "import random\n",
        "\n",
        "class Encoder(nn.Module):\n",
        "  def __init__(self, embedding_dim, enc_hidden_dim, vocab_size):\n",
        "    super().__init__()\n",
        "\n",
        "    self.encoder = nn.LSTM(embedding_dim, enc_hidden_dim, batch_first=True, bidirectional=True)\n",
        "    self.embedding = nn.Embedding(vocab_size, embedding_dim, padding_idx=0)\n",
        "    self.enc_hidden_dim = enc_hidden_dim\n",
        "\n",
        "  def forward(self, x:Tensor, lengths:Tensor):\n",
        "    # x ->  (B, L) indices of words in sentences.\n",
        "    # B-> Batch size\n",
        "    # L-> Sequence Length\n",
        "    # H-> Input size/embedding dimension\n",
        "    # Hout-> encoder hidden dim\n",
        "    # for example if there are 3 sentences each having 10 words, B=3, L=10, H=embedding dim\n",
        "    emb = self.embedding(x) # (B, L, H)\n",
        "    packed = nn.utils.rnn.pack_padded_sequence(emb, lengths, batch_first=True, enforce_sorted=False)\n",
        "    packed_out, hidden_n = self.encoder(packed)\n",
        "\n",
        "    # unpack back to (B, L, 2*Hout), with true lengths\n",
        "    h, _ = nn.utils.rnn.pad_packed_sequence(packed_out, batch_first=True)\n",
        "    return h, hidden_n # h -> (B, L, D*Hout) where D=2 because it is bi-directional\n",
        "\n"
      ]
    },
    {
      "cell_type": "code",
      "source": [
        "class Attention(nn.Module):\n",
        "  def __init__(self, enc_hidden_dim, dec_hidden_dim, attn_dim):\n",
        "    super().__init__()\n",
        "\n",
        "    self.W_h = nn.Linear(enc_hidden_dim, attn_dim)\n",
        "    self.W_s = nn.Linear(dec_hidden_dim, attn_dim)\n",
        "    self.am = nn.Linear(attn_dim, 1) # alignment model\n",
        "  def forward(self, h:Tensor, s:Tensor, mask:Tensor=None):\n",
        "    # h-> (B, L, 2*enc_hidden_dim) encoder output\n",
        "\n",
        "    # s-> (B, dec_hidden_dim) the decoder hidden state\n",
        "\n",
        "    # project encoder output\n",
        "    proj_enc = self.W_h(h) # (B, L, attn_dim)\n",
        "    # project decoder hidden\n",
        "    proj_dec = self.W_s(s).unsqueeze(1) # (B, 1, attn_dim)\n",
        "\n",
        "    e = self.am(torch.tanh(proj_enc + proj_dec)).squeeze(-1) # (B, L)\n",
        "\n",
        "    if mask is not None:\n",
        "      # to ensure that padded positions after softmax have their weights to be zero\n",
        "      # which means; do not pay attention here.\n",
        "      e = e.masked_fill(mask==0, value=float(\"-inf\"))\n",
        "\n",
        "    attn_weights = torch.softmax(e, dim=-1) # (B, L)\n",
        "\n",
        "    context = torch.bmm(attn_weights.unsqueeze(1), h).squeeze(1) # (B, 2*enc_hidden_dim)\n",
        "\n",
        "    return context, attn_weights\n"
      ],
      "metadata": {
        "id": "p08b0JUn7FtR"
      },
      "execution_count": null,
      "outputs": []
    },
    {
      "cell_type": "code",
      "source": [
        "class GenerateWordProb(nn.Module):\n",
        "  def __init__(self, dec_hidden_dim, enc_hidden_dim, vocab_size):\n",
        "    super().__init__()\n",
        "\n",
        "    self.fc1 = nn.Linear(dec_hidden_dim + enc_hidden_dim, vocab_size)\n",
        "    self.dropout = nn.Dropout(0.4)\n",
        "  def forward(self, context, decoder_output):\n",
        "    enc_dec_output = torch.cat([context, decoder_output], dim=-1) # (B, dec_hidden_dim + enc_hidden_dim)\n",
        "    enc_dec_output = self.dropout(enc_dec_output)\n",
        "    logits = self.fc1(enc_dec_output) # (B, vocab_size)\n",
        "    return logits"
      ],
      "metadata": {
        "id": "2FIauJF10-eN"
      },
      "execution_count": null,
      "outputs": []
    },
    {
      "cell_type": "code",
      "source": [
        "class Decoder(nn.Module):\n",
        "  def __init__(self, dec_hidden_dim, vocab_size, embedding_dim, enc_hidden_dim, attn_dim):\n",
        "    super().__init__()\n",
        "\n",
        "    enc_hidden_dim = 2*enc_hidden_dim # because of bidirectional encoder\n",
        "    self.embedding = nn.Embedding(vocab_size, embedding_dim, padding_idx=0)\n",
        "\n",
        "    # input to decoder is the is the previous generated token, the context vector and the hidden state.\n",
        "    # 2*enc_hidden_dim:  is because the context is coming from a bidirectional encoder\n",
        "    self.decoder = nn.LSTM(embedding_dim + enc_hidden_dim, dec_hidden_dim, batch_first=True)\n",
        "    self.attn = Attention(enc_hidden_dim, dec_hidden_dim, attn_dim)\n",
        "\n",
        "    self.out = GenerateWordProb(dec_hidden_dim, enc_hidden_dim, vocab_size)\n",
        "\n",
        "    self.dec_hidden_dim = dec_hidden_dim\n",
        "    # projection layers for h and c\n",
        "    self.h_proj = nn.Linear(enc_hidden_dim, dec_hidden_dim)\n",
        "    self.c_proj = nn.Linear(enc_hidden_dim, dec_hidden_dim)\n",
        "\n",
        "  def init_hidden(self, hidden_n):\n",
        "    # initialize hidden state\n",
        "\n",
        "    h, c = hidden_n  # (num_layers*2, B, Hout)\n",
        "    # concat forward/backward hidden states from last layer\n",
        "    h_cat = torch.cat((h[-2], h[-1]), dim=-1)  # (B, 2*Hout)\n",
        "    c_cat = torch.cat((c[-2], c[-1]), dim=-1)  # (B, 2*Hout)\n",
        "\n",
        "    # project to decoder hidden size\n",
        "    h0 = torch.tanh(self.h_proj(h_cat)).unsqueeze(0)  # (1, B, dec_hidden_dim)\n",
        "    c0 = torch.tanh(self.c_proj(c_cat)).unsqueeze(0)  # (1, B, dec_hidden_dim)\n",
        "\n",
        "    # init hidden state for decoder\n",
        "    hidden = (h0, c0)\n",
        "    return hidden\n",
        "\n",
        "  def forward_step(self, x:Tensor, encoder_output:Tensor, last_hidden:Tuple[Tensor, Tensor], mask=None):\n",
        "    \"\"\"Because the decoder depends on the previously generated token as an input\n",
        "      The attention context is recomputed at every step based on the current decoder hidden state.\n",
        "      The hidden state evolves step-by-step, so you can't precompute all decoder states in parallel.\n",
        "      Therefore we will use a for loop to iterate over each step.\n",
        "    \"\"\"\n",
        "    # x -> (B,) indices of words\n",
        "    # encoder_output (h) -> (B, L, 2*enc_hidden_dim)\n",
        "\n",
        "    emb = self.embedding(x) # (B, embedding_dim)\n",
        "\n",
        "    s_n = last_hidden[0].squeeze(0) # (1, B, dec_hidden_dim) the decoder hidden state\n",
        "\n",
        "    contexts, attn_weights = self.attn(encoder_output, s_n, mask)\n",
        "    # contexts -> (B, 2*enc_hidden_dim)\n",
        "\n",
        "    decoder_in = torch.cat([emb.unsqueeze(1), contexts.unsqueeze(1)], dim=-1) # (B, 1, embedding_dim + 2*enc_hidden_dim)\n",
        "\n",
        "    output, new_hidden = self.decoder(decoder_in, last_hidden) # output -> (B, 1, dec_hidden_dim)\n",
        "\n",
        "    logits = self.out(contexts, output.squeeze(1)) # (B, vocab_size)\n",
        "\n",
        "    return logits, new_hidden, attn_weights\n",
        "\n",
        "  def forward(self, target_seq:Tensor, encoder_output:Tensor, hidden_n:Tuple[Tensor, Tensor], mask=None, teacher_forcing_ratio=0.5, use_enc_hidden=False):\n",
        "    \"\"\"\n",
        "    target_seq (B, target_seq_len) indices of target words\n",
        "\n",
        "    In sequence-to-sequence models (like RNNs with attention), teacher forcing is a training strategy where the\n",
        "    model is fed the ground truth token from the previous time step instead of its own prediction.\n",
        "    The teacher forcing ratio is a probability (between 0 and 1) that determines how often this happens.\n",
        "    If a random number < teacher_forcing_ratio, then ground truth token is used as input for the next step.\n",
        "    Otherwise, the model uses its own predicted token from the previous step.\n",
        "\n",
        "    hidden_n; the encoder last hidden and cell state\n",
        "    \"\"\"\n",
        "    B, seq_len = target_seq.size()\n",
        "\n",
        "    logits_seq = []\n",
        "    attn_seq = []\n",
        "    x = target_seq[:, 0] # (B,) the first token is <sos>\n",
        "\n",
        "    if use_enc_hidden:\n",
        "      hidden = self.init_hidden(hidden_n)\n",
        "    else:\n",
        "      s_n_init = torch.zeros(1, B, self.dec_hidden_dim).to(target_seq.device)\n",
        "      c_n_init = torch.zeros(1, B, self.dec_hidden_dim).to(target_seq.device)\n",
        "\n",
        "      init_hidden = (s_n_init, c_n_init)\n",
        "      hidden = init_hidden\n",
        "\n",
        "    for t in range(1, seq_len): # starting from one because we want to skip the <sos> token\n",
        "      logits, hidden, attn_weights = self.forward_step(x, encoder_output, hidden, mask)\n",
        "      logits_seq.append(logits.unsqueeze(1))\n",
        "      attn_seq.append(attn_weights.unsqueeze(1))\n",
        "      teacher_force = random.random() < teacher_forcing_ratio\n",
        "      if teacher_force:\n",
        "        # Ground truth\n",
        "        x = target_seq[:, t]\n",
        "      else:\n",
        "        x = logits.argmax(dim=-1)\n",
        "    logits_seq = torch.cat(logits_seq, dim=1) # (B, target_seq_len-1, vocab)\n",
        "    attn_seq = torch.cat(attn_seq, dim=1) #  (B, target_seq_len-1, L)\n",
        "    return logits_seq, attn_seq\n",
        "\n",
        "\n",
        "\n",
        "\n"
      ],
      "metadata": {
        "id": "7GWGEkSM5GnC"
      },
      "execution_count": null,
      "outputs": []
    },
    {
      "cell_type": "code",
      "source": [
        "def make_mask(data:Tensor, pad_idx=0):\n",
        "  # data -> (B, seq_len)\n",
        "  return (data != pad_idx).to(data.device)"
      ],
      "metadata": {
        "id": "-CasxKJ58F37"
      },
      "execution_count": null,
      "outputs": []
    },
    {
      "cell_type": "code",
      "source": [
        "# Creating a synthetic dataset to test my implementation of attention\n",
        "from torch.utils.data import Dataset, DataLoader\n",
        "import random\n",
        "class SyntheticDataset(Dataset):\n",
        "  def __init__(self, n_samples=10000, seq_len=10, vocab_size=50, task=\"copy\"):\n",
        "    super().__init__()\n",
        "    self.samples = []\n",
        "    for _ in range(n_samples):\n",
        "      length = random.randint(3, seq_len)\n",
        "      seq = [random.randint(3, vocab_size-1) for _ in range(length)]\n",
        "\n",
        "      if task == 'copy':\n",
        "        target = seq[:]\n",
        "      elif task == 'reverse':\n",
        "        target = seq[::-1]\n",
        "\n",
        "      # add <sos>=1 and <eos>=2 for target\n",
        "      self.samples.append((seq, [1]+target+[2]))\n",
        "\n",
        "    self.vocab_size = vocab_size\n",
        "  def __len__(self):\n",
        "    return len(self.samples)\n",
        "  def __getitem__(self, idx):\n",
        "    return self.samples[idx]\n",
        "\n"
      ],
      "metadata": {
        "id": "fNVvOpfPjdfD"
      },
      "execution_count": null,
      "outputs": []
    },
    {
      "cell_type": "code",
      "source": [
        "# set up collate function for dataloader\n",
        "def collate_fn(batch, pad_idx=0):\n",
        "  data, target = zip(*batch)\n",
        "  data_lengths = [len(seq) for seq in data]\n",
        "  max_data_len = max(data_lengths)\n",
        "  max_tgt_len = max([len(tgt) for tgt in target])\n",
        "  padded_data = [seq + [pad_idx]*(max_data_len-len(seq)) for seq in data]\n",
        "  padded_target = [seq + [pad_idx]*(max_tgt_len-len(seq)) for seq in target]\n",
        "  return torch.tensor(padded_data), torch.tensor(padded_target), torch.tensor(data_lengths)"
      ],
      "metadata": {
        "id": "xhKOBRL3m0uV"
      },
      "execution_count": null,
      "outputs": []
    },
    {
      "cell_type": "code",
      "source": [
        "dataset = SyntheticDataset(n_samples=10000, seq_len=12, vocab_size=50, task='reverse')\n",
        "train_loader = DataLoader(dataset, batch_size=64, shuffle=True, collate_fn=collate_fn)"
      ],
      "metadata": {
        "id": "ex1XmLvZr35P"
      },
      "execution_count": null,
      "outputs": []
    },
    {
      "cell_type": "code",
      "source": [
        "# Initialise model\n",
        "encoder = Encoder(embedding_dim=64, enc_hidden_dim=128, vocab_size=dataset.vocab_size)\n",
        "decoder = Decoder(dec_hidden_dim=128, vocab_size=dataset.vocab_size, embedding_dim=64, enc_hidden_dim=128, attn_dim=64)\n",
        "device = torch.device(\"cuda\" if torch.cuda.is_available() else \"cpu\")\n",
        "encoder.to(device)\n",
        "decoder.to(device)"
      ],
      "metadata": {
        "colab": {
          "base_uri": "https://localhost:8080/"
        },
        "id": "bHAKMtoUoz3c",
        "outputId": "7bb7d84d-1d70-4acf-e019-79312f3ce798"
      },
      "execution_count": null,
      "outputs": [
        {
          "output_type": "execute_result",
          "data": {
            "text/plain": [
              "Decoder(\n",
              "  (embedding): Embedding(50, 64, padding_idx=0)\n",
              "  (decoder): LSTM(320, 128, batch_first=True)\n",
              "  (attn): Attention(\n",
              "    (W_h): Linear(in_features=256, out_features=64, bias=True)\n",
              "    (W_s): Linear(in_features=128, out_features=64, bias=True)\n",
              "    (am): Linear(in_features=64, out_features=1, bias=True)\n",
              "  )\n",
              "  (out): GenerateWordProb(\n",
              "    (fc1): Linear(in_features=384, out_features=50, bias=True)\n",
              "    (dropout): Dropout(p=0.4, inplace=False)\n",
              "  )\n",
              "  (h_proj): Linear(in_features=256, out_features=128, bias=True)\n",
              "  (c_proj): Linear(in_features=256, out_features=128, bias=True)\n",
              ")"
            ]
          },
          "metadata": {},
          "execution_count": 35
        }
      ]
    },
    {
      "cell_type": "code",
      "source": [
        "criterion = nn.CrossEntropyLoss(ignore_index=0)\n",
        "params = list(encoder.parameters())+list(decoder.parameters())\n",
        "optimizer = torch.optim.Adam(params, lr=0.001)"
      ],
      "metadata": {
        "id": "OWBk4KGKpLEe"
      },
      "execution_count": null,
      "outputs": []
    },
    {
      "cell_type": "code",
      "source": [
        "epochs =  10\n",
        "encoder.train()\n",
        "decoder.train()\n",
        "for epoch in range(epochs):\n",
        "  running_loss = 0.0\n",
        "  for data, target, lengths in train_loader:\n",
        "    data = data.to(device)\n",
        "    target = target.to(device)\n",
        "    lengths = lengths.to(device)\n",
        "\n",
        "    optimizer.zero_grad()\n",
        "    encoder_output, hidden_n = encoder(data, lengths)\n",
        "    mask = make_mask(data)\n",
        "    logits_seq, attn_seq = decoder(target, encoder_output, hidden_n, mask=mask, teacher_forcing_ratio=0.5)\n",
        "    # logits seq is (B, target_seq_len-1, vocab)\n",
        "    tgts = target[:, 1:logits_seq.size(1)+1]\n",
        "    loss = criterion(logits_seq.view(-1, logits_seq.size(-1)), tgts.reshape(-1))\n",
        "    loss.backward()\n",
        "    torch.nn.utils.clip_grad_norm_(params, 1.0)\n",
        "    optimizer.step()\n",
        "    running_loss += loss.item()\n",
        "  print(f\"Epoch {epoch+1}, Loss: {running_loss/len(train_loader)}\")\n"
      ],
      "metadata": {
        "colab": {
          "base_uri": "https://localhost:8080/"
        },
        "id": "mpsXAtWMtea0",
        "outputId": "887138ab-1284-465f-b0ad-c6b571ad63da"
      },
      "execution_count": null,
      "outputs": [
        {
          "output_type": "stream",
          "name": "stdout",
          "text": [
            "Epoch 1, Loss: 2.3242060840129852\n",
            "Epoch 2, Loss: 0.4465853155228742\n",
            "Epoch 3, Loss: 0.26459415764755506\n",
            "Epoch 4, Loss: 0.14399968214617792\n",
            "Epoch 5, Loss: 0.08282175400905359\n",
            "Epoch 6, Loss: 0.07343465957351646\n",
            "Epoch 7, Loss: 0.08730173831105612\n",
            "Epoch 8, Loss: 0.04399116863170342\n",
            "Epoch 9, Loss: 0.06232075718569623\n",
            "Epoch 10, Loss: 0.05614654439098089\n"
          ]
        }
      ]
    },
    {
      "cell_type": "code",
      "source": [
        "def test_model(seq, max_len=20):\n",
        "  encoder.eval(); decoder.eval()\n",
        "  src = torch.tensor([seq], device=device)\n",
        "  length = torch.tensor([len(seq)], device=device)\n",
        "  with torch.no_grad():\n",
        "      enc_out, hidden_n = encoder(src, length)\n",
        "      mask = make_mask(src)\n",
        "\n",
        "      # initialize hidden state\n",
        "      #hidden = decoder.init_hidden(hidden_n)\n",
        "      B = src.size(0)\n",
        "      s_n_init = torch.zeros(1, B, decoder.dec_hidden_dim).to(device)\n",
        "      c_n_init = torch.zeros(1, B, decoder.dec_hidden_dim).to(device)\n",
        "\n",
        "      init_hidden = (s_n_init, c_n_init)\n",
        "      hidden = init_hidden\n",
        "\n",
        "      # start with <sos>\n",
        "      x = torch.tensor([1], device=device)  # (B,)\n",
        "      preds, attns = [], []\n",
        "\n",
        "      for _ in range(max_len):\n",
        "        logits, hidden, attn_weights = decoder.forward_step(x, enc_out, hidden, mask)\n",
        "        next_token = logits.argmax(-1)  # greedy\n",
        "        preds.append(next_token.item())\n",
        "        attns.append(attn_weights.unsqueeze(1))\n",
        "\n",
        "        if next_token.item() == 2:  # <eos>\n",
        "          break\n",
        "        x = next_token  # feed back prediction\n",
        "\n",
        "  attns = torch.cat(attns, dim=1)\n",
        "  return preds, attns\n"
      ],
      "metadata": {
        "id": "AjkhiIZ90rNn"
      },
      "execution_count": null,
      "outputs": []
    },
    {
      "cell_type": "code",
      "source": [
        "import matplotlib.pyplot as plt\n",
        "import seaborn as sns\n",
        "import torch\n",
        "\n",
        "def plot_attention(attention_weights, src_seq, tgt_seq, idx2token=None, title=\"Attention Heatmap\"):\n",
        "    \"\"\"\n",
        "    Plots a heatmap of attention weights between source and target sequences.\n",
        "\n",
        "    Args:\n",
        "        attention_weights (torch.Tensor): [tgt_len, src_len] tensor (after softmax).\n",
        "        src_seq (list[int]): Source token IDs (e.g. input sequence).\n",
        "        tgt_seq (list[int]): Target token IDs (e.g. predicted output sequence).\n",
        "        idx2token (dict[int,str], optional): Mapping from token ID to string for readability.\n",
        "        title (str): Title of the plot.\n",
        "    \"\"\"\n",
        "\n",
        "    # Convert token IDs to strings if mapping provided\n",
        "    if idx2token is not None:\n",
        "        src_labels = [idx2token[idx] for idx in src_seq]\n",
        "        tgt_labels = [idx2token[idx] for idx in tgt_seq]\n",
        "    else:\n",
        "        src_labels = [str(idx) for idx in src_seq]\n",
        "        tgt_labels = [str(idx) for idx in tgt_seq]\n",
        "\n",
        "    # Prepare attention matrix\n",
        "    attn = attention_weights.detach().cpu().numpy()\n",
        "\n",
        "    plt.figure(figsize=(10, 8))\n",
        "    ax = sns.heatmap(attn,\n",
        "                     xticklabels=src_labels,\n",
        "                     yticklabels=tgt_labels,\n",
        "                     cmap=\"viridis\",\n",
        "                     cbar=True,\n",
        "                     linewidths=0.5,\n",
        "                     linecolor=\"gray\",\n",
        "                     annot=True,  # write values in cells\n",
        "                     fmt=\".2f\")\n",
        "\n",
        "    plt.xlabel(\"Source Sequence (Input)\")\n",
        "    plt.ylabel(\"Target Sequence (Output)\")\n",
        "    plt.title(title, fontsize=14, pad=20)\n",
        "    plt.xticks(rotation=45, ha=\"right\")\n",
        "    plt.yticks(rotation=0)\n",
        "\n",
        "    plt.tight_layout()\n",
        "    plt.show()\n"
      ],
      "metadata": {
        "id": "3FijcRGYeKJR"
      },
      "execution_count": null,
      "outputs": []
    },
    {
      "cell_type": "code",
      "source": [
        "# Try with a random input\n",
        "test_seq = [7, 9, 25, 26, 23, 23]\n",
        "print(\"Input:\", test_seq)\n",
        "pred, attn_weights = test_model(test_seq)\n",
        "print(\"Predicted Output:\", pred)\n",
        "print(\"Expected Output:\", test_seq[::-1] + [2])  # reversed + <eos>"
      ],
      "metadata": {
        "colab": {
          "base_uri": "https://localhost:8080/"
        },
        "id": "rGfrb8o_v_8Q",
        "outputId": "5e5065ac-9b62-41b3-b654-6505c2819cd0"
      },
      "execution_count": null,
      "outputs": [
        {
          "output_type": "stream",
          "name": "stdout",
          "text": [
            "Input: [7, 9, 25, 26, 23, 23]\n",
            "Predicted Output: [23, 23, 26, 25, 9, 7, 2]\n",
            "Expected Output: [23, 23, 26, 25, 9, 7, 2]\n"
          ]
        }
      ]
    },
    {
      "cell_type": "code",
      "source": [
        "plot_attention(attn_weights[0], test_seq, pred)"
      ],
      "metadata": {
        "colab": {
          "base_uri": "https://localhost:8080/"
        },
        "id": "XRQe2MKJwY3j",
        "outputId": "11b0c77a-4906-44b0-9a01-08e801b7af26"
      },
      "execution_count": null,
      "outputs": [
        {
          "output_type": "display_data",
          "data": {
            "text/plain": [
              "<Figure size 1000x800 with 2 Axes>"
            ],
            "image/png": "[encoded data removed]"
          },
          "metadata": {}
        }
      ]
    }
  ]
}