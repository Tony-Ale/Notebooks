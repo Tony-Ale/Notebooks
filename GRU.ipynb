{
  "nbformat": 4,
  "nbformat_minor": 0,
  "metadata": {
    "colab": {
      "provenance": []
    },
    "kernelspec": {
      "name": "python3",
      "display_name": "Python 3"
    },
    "language_info": {
      "name": "python"
    }
  },
  "cells": [
    {
      "cell_type": "code",
      "execution_count": 1,
      "metadata": {
        "id": "zJlSLsbq1hR_"
      },
      "outputs": [],
      "source": [
        "from torchvision import datasets, transforms\n",
        "from torch.utils.data import DataLoader\n",
        "\n",
        "def get_mnist_loaders(batch_size=32):\n",
        "  transform = transforms.ToTensor()\n",
        "  train_dataset = datasets.MNIST(root=\"./data\", train=True, download=True, transform=transform)\n",
        "\n",
        "  test_dataset = datasets.MNIST(root=\"./data\", train=False, download=True, transform=transform)\n",
        "\n",
        "  train_loader = DataLoader(train_dataset, batch_size=batch_size, shuffle=True)\n",
        "  test_loader = DataLoader(test_dataset, batch_size=batch_size, shuffle=False)\n",
        "  return train_loader, test_loader"
      ]
    },
    {
      "cell_type": "code",
      "source": [
        "import matplotlib.pyplot as plt # For plotting and displaying images\n",
        "def visualize_batch(batch_size=16):\n",
        "  # Load a mini-batch of training data\n",
        "  train_loader, _ = get_mnist_loaders(batch_size)\n",
        "  images, labels = next(iter(train_loader)) # Get the first batch\n",
        "\n",
        "  # Create a horizontal grid of images\n",
        "  plt.figure(figsize=(10, 4))\n",
        "  for i in range(batch_size):\n",
        "    plt.subplot(2, batch_size // 2, i + 1) # 2 rows, batch_size/2 columns\n",
        "    plt.imshow(images[i][0], cmap='gray') # Show the image (channel 0 since MNIST is grayscale)\n",
        "    plt.title(f\"Label: {labels[i].item()}\")\n",
        "    plt.axis('off')\n",
        "  plt.tight_layout()\n",
        "  plt.show()"
      ],
      "metadata": {
        "id": "t7OOZyGU23hF"
      },
      "execution_count": 2,
      "outputs": []
    },
    {
      "cell_type": "code",
      "source": [
        "visualize_batch()"
      ],
      "metadata": {
        "colab": {
          "base_uri": "https://localhost:8080/",
          "height": 395
        },
        "id": "7e3PrM9k5OkC",
        "outputId": "0d493b90-affa-4089-e3b0-d7275df6d4c8"
      },
      "execution_count": 3,
      "outputs": [
        {
          "output_type": "stream",
          "name": "stderr",
          "text": [
            "100%|██████████| 9.91M/9.91M [00:11<00:00, 891kB/s] \n",
            "100%|██████████| 28.9k/28.9k [00:00<00:00, 131kB/s]\n",
            "100%|██████████| 1.65M/1.65M [00:01<00:00, 1.07MB/s]\n",
            "100%|██████████| 4.54k/4.54k [00:00<00:00, 6.02MB/s]\n"
          ]
        },
        {
          "output_type": "display_data",
          "data": {
            "text/plain": [
              "<Figure size 1000x400 with 16 Axes>"
            ],
            "image/png": "[encoded data removed]"
          },
          "metadata": {}
        }
      ]
    },
    {
      "cell_type": "code",
      "source": [
        "train_loader, test_loader = get_mnist_loaders(32)"
      ],
      "metadata": {
        "id": "0uPFXMt6fRdD"
      },
      "execution_count": 4,
      "outputs": []
    },
    {
      "cell_type": "code",
      "source": [
        "import torch\n",
        "import torch.nn as nn\n",
        "import torch.nn.functional as F\n",
        "class GRUCell(nn.Module):\n",
        "  def __init__(self, input_size, hidden_size) -> None:\n",
        "    super().__init__()\n",
        "\n",
        "    self.x_t = nn.Linear(input_size, hidden_size) # A data point in our case, an image pixel\n",
        "    self.c_t = nn.Linear(hidden_size, hidden_size) # The memory cell (more like the activation since in GRUs a_t = c_t)\n",
        "\n",
        "    self.x_t_r = nn.Linear(input_size, hidden_size) # Relevance matrix\n",
        "    self.c_t_r = nn.Linear(hidden_size, hidden_size) # Relevance matrix\n",
        "\n",
        "    self.x_t_u = nn.Linear(input_size, hidden_size) # Update matrix\n",
        "    self.c_t_u = nn.Linear(hidden_size, hidden_size) # Update matrix\n",
        "  def forward(self, x, c_t_prev):\n",
        "\n",
        "    gamma_u = F.sigmoid(self.c_t_u(c_t_prev) + self.x_t_u(x)) # Update gate\n",
        "\n",
        "    gamma_r = F.sigmoid(self.c_t_r(c_t_prev) + self.x_t_r(x)) # Relevance gate\n",
        "\n",
        "    c_t_tilde = F.tanh(self.c_t(gamma_r * c_t_prev) + self.x_t(x)) # output\n",
        "\n",
        "    c_t = gamma_u * c_t_tilde + (1 - gamma_u) * c_t_prev\n",
        "\n",
        "    return c_t\n"
      ],
      "metadata": {
        "id": "xsd210uf5Rlg"
      },
      "execution_count": 6,
      "outputs": []
    },
    {
      "cell_type": "code",
      "source": [
        "class GRU(nn.Module):\n",
        "  def __init__(self, input_size, hidden_size, GRUCell=GRUCell) -> None:\n",
        "    super().__init__()\n",
        "\n",
        "    self.input_size = input_size\n",
        "    self.hidden_size = hidden_size\n",
        "    self.GRUCell = GRUCell(input_size, hidden_size)\n",
        "\n",
        "  def forward(self, x):\n",
        "    # using batch first [batch_size, seq_len, input_size]\n",
        "    output = []\n",
        "    batch_size, seq_len, _ = x.shape\n",
        "    c_t = torch.zeros(batch_size, self.hidden_size).to(x.device) # c_t for one data point or pixel\n",
        "\n",
        "    for i in range(seq_len): # iterating through each pixel\n",
        "\n",
        "      c_t = self.GRUCell(x[:, i, :], c_t)\n",
        "\n",
        "      output.append(c_t)\n",
        "\n",
        "    return torch.stack(output), c_t\n"
      ],
      "metadata": {
        "id": "eUtkv0tE_LIv"
      },
      "execution_count": 7,
      "outputs": []
    },
    {
      "cell_type": "code",
      "source": [
        "class DigitClassification(nn.Module):\n",
        "  def __init__(self, input_size=28, hidden_size=128, output_size=10) -> None:\n",
        "    super().__init__()\n",
        "\n",
        "    self.gru = GRU(input_size, hidden_size)\n",
        "    self.classifier = nn.Linear(hidden_size, output_size)\n",
        "\n",
        "  def forward(self, x):\n",
        "    x = x.view(x.shape[0], 28, 28)\n",
        "    output, c_t = self.gru(x)\n",
        "    out = self.classifier(c_t)\n",
        "    return out"
      ],
      "metadata": {
        "id": "DlM2nBHbcrJ-"
      },
      "execution_count": 8,
      "outputs": []
    },
    {
      "cell_type": "code",
      "source": [
        "criterion = nn.CrossEntropyLoss()\n",
        "model = DigitClassification()\n",
        "device = torch.device(\"cuda\" if torch.cuda.is_available() else \"cpu\")\n",
        "model.to(device)\n",
        "optimizer = torch.optim.Adam(model.parameters(), lr=0.001)"
      ],
      "metadata": {
        "id": "1EXtIZlwe05n"
      },
      "execution_count": 9,
      "outputs": []
    },
    {
      "cell_type": "code",
      "source": [
        "epochs=10\n",
        "for epoch in range(epochs):\n",
        "  running_loss = 0.0\n",
        "  for image, target in train_loader:\n",
        "    image = image.to(device)\n",
        "    target = target.to(device)\n",
        "\n",
        "    optimizer.zero_grad()\n",
        "\n",
        "    output = model.forward(image)\n",
        "    loss = criterion(output, target)\n",
        "    loss.backward()\n",
        "    optimizer.step()\n",
        "    running_loss += loss.item()\n",
        "\n",
        "  print(f\"Epoch: {epoch+1}, Loss: {running_loss/len(train_loader)}\")\n"
      ],
      "metadata": {
        "colab": {
          "base_uri": "https://localhost:8080/"
        },
        "id": "N33UfnYpevkk",
        "outputId": "43f68cf6-722d-4d3e-b433-00a346c491ed"
      },
      "execution_count": 10,
      "outputs": [
        {
          "output_type": "stream",
          "name": "stdout",
          "text": [
            "Epoch: 1, Loss: 0.3821188646500309\n",
            "Epoch: 2, Loss: 0.09624521113932133\n",
            "Epoch: 3, Loss: 0.06622859690232823\n",
            "Epoch: 4, Loss: 0.05134889295408502\n",
            "Epoch: 5, Loss: 0.04086330350704181\n",
            "Epoch: 6, Loss: 0.034850305111209554\n",
            "Epoch: 7, Loss: 0.029862093949092863\n",
            "Epoch: 8, Loss: 0.024089865983087416\n",
            "Epoch: 9, Loss: 0.02408636848607954\n",
            "Epoch: 10, Loss: 0.020219191493724552\n"
          ]
        }
      ]
    },
    {
      "cell_type": "code",
      "source": [
        "# Test the accuracy of the model\n",
        "model.eval()\n",
        "with torch.no_grad():\n",
        "  correct = 0\n",
        "  total = 0\n",
        "  for images, target in test_loader:\n",
        "    images = images.to(device)\n",
        "    target = target.to(device)\n",
        "\n",
        "    output = model.forward(images)\n",
        "\n",
        "    _, topk = output.topk(1, dim=1)\n",
        "\n",
        "    topk = topk.squeeze(1)\n",
        "\n",
        "    correct += (topk == target).sum()\n",
        "\n",
        "    total += target.size(0)\n",
        "\n",
        "  print(f\"Accuracy: {100*correct/total}%\")"
      ],
      "metadata": {
        "colab": {
          "base_uri": "https://localhost:8080/"
        },
        "id": "RvxWgCzggorP",
        "outputId": "08259697-36aa-4a1d-bf2b-2fa4f843c6d1"
      },
      "execution_count": 13,
      "outputs": [
        {
          "output_type": "stream",
          "name": "stdout",
          "text": [
            "Accuracy: 98.75%\n"
          ]
        }
      ]
    },
    {
      "cell_type": "code",
      "source": [
        "import matplotlib.pyplot as plt\n",
        "import torchvision.transforms.functional as TF\n",
        "\n",
        "# Set model to eval mode\n",
        "model.eval()\n",
        "\n",
        "# Get one batch from test_loader\n",
        "images, labels = next(iter(test_loader))\n",
        "\n",
        "# Pick one sample\n",
        "index = 0\n",
        "image = images[index].to(device).unsqueeze(0)  # Add batch dimension\n",
        "label = labels[index]\n",
        "\n",
        "# Make prediction\n",
        "with torch.no_grad():\n",
        "    output = model(image)\n",
        "    _, pred = output.topk(1, dim=1)\n",
        "    pred = pred.item()\n",
        "\n",
        "# Show image\n",
        "plt.imshow(TF.to_pil_image(images[index]), cmap=\"gray\")\n",
        "plt.title(f\"Prediction: {pred} | True Label: {label.item()}\")\n",
        "plt.axis('off')\n",
        "plt.show()"
      ],
      "metadata": {
        "colab": {
          "base_uri": "https://localhost:8080/",
          "height": 428
        },
        "id": "Cb17MCx62S13",
        "outputId": "f8723c71-cc2a-4d13-a997-0383437e4f8c"
      },
      "execution_count": 19,
      "outputs": [
        {
          "output_type": "display_data",
          "data": {
            "text/plain": [
              "<Figure size 640x480 with 1 Axes>"
            ],
            "image/png": "[encoded data removed]"
          },
          "metadata": {}
        }
      ]
    },
    {
      "cell_type": "code",
      "source": [
        "!jupyter nbconvert --to markdown --output=GRU GRU.ipynb"
      ],
      "metadata": {
        "colab": {
          "base_uri": "https://localhost:8080/"
        },
        "id": "5tu38DKS3Ony",
        "outputId": "63668374-7d8b-4488-bc77-6a9784437ce0"
      },
      "execution_count": 1,
      "outputs": [
        {
          "output_type": "stream",
          "name": "stdout",
          "text": [
            "[NbConvertApp] Converting notebook GRU.ipynb to markdown\n",
            "[NbConvertApp] Support files will be in GRU_files/\n",
            "[NbConvertApp] Making directory GRU_files\n",
            "[NbConvertApp] Writing 5982 bytes to GRU.md\n"
          ]
        }
      ]
    },
    {
      "cell_type": "code",
      "source": [],
      "metadata": {
        "id": "CrQCuMkX_wWx"
      },
      "execution_count": null,
      "outputs": []
    }
  ]
}